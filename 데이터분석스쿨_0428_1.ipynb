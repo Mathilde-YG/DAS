{
  "nbformat": 4,
  "nbformat_minor": 0,
  "metadata": {
    "colab": {
      "provenance": []
    },
    "kernelspec": {
      "name": "python3",
      "display_name": "Python 3"
    },
    "language_info": {
      "name": "python"
    }
  },
  "cells": [
    {
      "cell_type": "markdown",
      "source": [
        "## 함수"
      ],
      "metadata": {
        "id": "xJWugbDjU0jr"
      }
    },
    {
      "cell_type": "code",
      "source": [
        "def 부지매입():\n",
        "    pass\n",
        "\n",
        "def 설계도면작성():\n",
        "    pass\n",
        "\n",
        "def 인력모집():\n",
        "    pass\n",
        "\n",
        "def 벽돌쌓기():\n",
        "    pass\n",
        "\n",
        "def 지붕올리기():\n",
        "    pass\n",
        "\n",
        "부지매입()\n",
        "설계도면작성()\n",
        "인력모집()\n",
        "벽돌쌓기()\n",
        "지붕올리기()"
      ],
      "metadata": {
        "id": "7fSvO1o7U1ZE"
      },
      "execution_count": 1,
      "outputs": []
    },
    {
      "cell_type": "code",
      "source": [
        "# 파선아실 = 파라미터는 선언, 아규먼트는 실행\n",
        "# 파선아실\n",
        "def function(x, y):\n",
        "    z = x + y\n",
        "    return z\n",
        "print(f'function(5, 7) = {function(5, 7)}')"
      ],
      "metadata": {
        "colab": {
          "base_uri": "https://localhost:8080/"
        },
        "id": "cQ1Neli8VOzQ",
        "outputId": "75db8a12-58df-4603-d44e-9fa9831290b6"
      },
      "execution_count": 2,
      "outputs": [
        {
          "output_type": "stream",
          "name": "stdout",
          "text": [
            "function(5, 7) = 12\n"
          ]
        }
      ]
    },
    {
      "cell_type": "code",
      "source": [
        "def function(x, y):\n",
        "    z = x + y\n",
        "    return None\n",
        "print(f'function(5, 7) = {function(5, 7)}')"
      ],
      "metadata": {
        "colab": {
          "base_uri": "https://localhost:8080/"
        },
        "id": "88I2A7TPYgYE",
        "outputId": "36c0089d-f26e-4e14-d7ca-3fd4b6d1bb1b"
      },
      "execution_count": 4,
      "outputs": [
        {
          "output_type": "stream",
          "name": "stdout",
          "text": [
            "function(5, 7) = None\n"
          ]
        }
      ]
    },
    {
      "cell_type": "code",
      "source": [
        "# print와 return은 다름\n",
        "# print도 함수, \n",
        "#return은 함수가 있던 자리에 해당 값을 넣어주는 거/return 구문이 없으면 None이 생략\n",
        "    #출력 함수의 반환값, 함수가 \n"
      ],
      "metadata": {
        "id": "QqqRVTaYYnip"
      },
      "execution_count": 5,
      "outputs": []
    },
    {
      "cell_type": "code",
      "source": [
        "def function():\n",
        "    print('hello')\n",
        "    print('hello')\n",
        "    print('hello')\n",
        "    print('hello')\n",
        "\n",
        "print(function())"
      ],
      "metadata": {
        "colab": {
          "base_uri": "https://localhost:8080/"
        },
        "id": "TuDu6VupY8Wy",
        "outputId": "a7eba122-6bd8-438c-cb71-d2b43dd489ee"
      },
      "execution_count": 7,
      "outputs": [
        {
          "output_type": "stream",
          "name": "stdout",
          "text": [
            "hello\n",
            "hello\n",
            "hello\n",
            "hello\n",
            "None\n"
          ]
        }
      ]
    },
    {
      "cell_type": "code",
      "source": [
        "def function(x,y): #Input\n",
        "    z = x + y      #Function\n",
        "    print(z)       #Output?\n",
        "print(\"function(5,7) = \", function(5,7))"
      ],
      "metadata": {
        "colab": {
          "base_uri": "https://localhost:8080/"
        },
        "id": "Q2mbS-vSZE0W",
        "outputId": "117aaa38-19ee-4869-a8ff-f74969a3229d"
      },
      "execution_count": 8,
      "outputs": [
        {
          "output_type": "stream",
          "name": "stdout",
          "text": [
            "12\n",
            "function(5,7) =  None\n"
          ]
        }
      ]
    },
    {
      "cell_type": "code",
      "source": [
        "def function(x,y): #Input\n",
        "    z = x + y      #Function\n",
        "    print(z)       #Output?\n",
        "print(f'function(5,7) = {function(5,7)}')"
      ],
      "metadata": {
        "colab": {
          "base_uri": "https://localhost:8080/"
        },
        "id": "XPJ647pmZjyU",
        "outputId": "93ef33e7-c9df-430a-ed23-b0b4ee335e6d"
      },
      "execution_count": 9,
      "outputs": [
        {
          "output_type": "stream",
          "name": "stdout",
          "text": [
            "12\n",
            "function(5,7) = None\n"
          ]
        }
      ]
    },
    {
      "cell_type": "code",
      "source": [
        "def function(x, y):\n",
        "    print('hello')\n",
        "    print('hello')\n",
        "    print('hello')\n",
        "    print('hello')\n",
        "    return x + y\n",
        "\n",
        "x = function(1, 1)\n",
        "print(x + x)"
      ],
      "metadata": {
        "colab": {
          "base_uri": "https://localhost:8080/"
        },
        "id": "XT7NrVuSaW7w",
        "outputId": "5bdf29fc-c91b-40f0-ac2e-afcca65fe642"
      },
      "execution_count": 10,
      "outputs": [
        {
          "output_type": "stream",
          "name": "stdout",
          "text": [
            "hello\n",
            "hello\n",
            "hello\n",
            "hello\n",
            "4\n"
          ]
        }
      ]
    },
    {
      "cell_type": "code",
      "source": [
        "def function1(x):\n",
        "    print('world1')\n",
        "    print('world2')\n",
        "    print('world3')\n",
        "\n",
        "def function2(x, y):\n",
        "    print('hello1')\n",
        "    print('hello2')\n",
        "    return x + y\n",
        "\n",
        "a = function1(3) # x 값은 상관없이 return이 None\n",
        "b = function2(3, 4)\n",
        "print(a, b)"
      ],
      "metadata": {
        "colab": {
          "base_uri": "https://localhost:8080/"
        },
        "id": "D-gMVxRtaqaq",
        "outputId": "a653135c-da64-4c06-efc4-7152a1d6b074"
      },
      "execution_count": 15,
      "outputs": [
        {
          "output_type": "stream",
          "name": "stdout",
          "text": [
            "world1\n",
            "world2\n",
            "world3\n",
            "hello1\n",
            "hello2\n",
            "None 7\n"
          ]
        }
      ]
    },
    {
      "cell_type": "code",
      "source": [
        "#(1) print는 출력 값을 보여주는 기능이며, 출력 값 생성을 위해 함수를 호출하게 된다.\n",
        "\n",
        "#(2) return은 정의된 함수에 대한 호출이 있을 때 값을 반환시켜주는 기능이다.\n",
        "\n",
        "#(3) 모든 함수는 어떤 값을 return 해야한다. 이때 함수 내에 반환값인 return이 정의되지 않은 경우 \n",
        "#None을 결과 값으로 뱉어내게 된다. (아래 4번 내용 참고)\n",
        "\n",
        "def function1(x):\n",
        "    print('world1')\n",
        "    print('world2')\n",
        "    print('world3')\n",
        "    return x + x\n",
        "\n",
        "def function2(x, y):\n",
        "    print('hello1')\n",
        "    print('hello2')\n",
        "    z = function1(10)\n",
        "    return x + y + z # return은 함수 대신에 그 값이 들어감\n",
        "\n",
        "a = function1(1)\n",
        "b = function2(3, 4)\n",
        "print(a, b)"
      ],
      "metadata": {
        "colab": {
          "base_uri": "https://localhost:8080/"
        },
        "id": "tXp4Vz-6bZwg",
        "outputId": "3ed7ff18-7656-4060-941a-a65b98862562"
      },
      "execution_count": 17,
      "outputs": [
        {
          "output_type": "stream",
          "name": "stdout",
          "text": [
            "world1\n",
            "world2\n",
            "world3\n",
            "hello1\n",
            "hello2\n",
            "world1\n",
            "world2\n",
            "world3\n",
            "2 27\n"
          ]
        }
      ]
    },
    {
      "cell_type": "code",
      "source": [
        "# 함수 안에 있는 변수나 함수는 함수가 끝난면 휘발\n",
        "# 메모리에서 사라짐 (효율성을 위해)\n",
        "def f2(x, y):\n",
        "    def f1(x):\n",
        "        print('world1')\n",
        "        return x + x\n",
        "    print('hello1')\n",
        "    z = f1(10)\n",
        "    return x + y + z\n",
        "\n",
        "\n",
        "#a = f1(1)\n",
        "b = f2(3, 4)\n",
        "print(a, b)\n",
        "\n",
        "#print(z) # 함수가 끝났기 때문에 x, y, z에 접근 불가"
      ],
      "metadata": {
        "colab": {
          "base_uri": "https://localhost:8080/",
          "height": 259
        },
        "id": "GjVbwldre9UC",
        "outputId": "fc144b32-c5d3-4659-a097-6fa04c3e639a"
      },
      "execution_count": 18,
      "outputs": [
        {
          "output_type": "stream",
          "name": "stdout",
          "text": [
            "hello1\n",
            "world1\n",
            "2 27\n"
          ]
        },
        {
          "output_type": "error",
          "ename": "NameError",
          "evalue": "ignored",
          "traceback": [
            "\u001b[0;31m---------------------------------------------------------------------------\u001b[0m",
            "\u001b[0;31mNameError\u001b[0m                                 Traceback (most recent call last)",
            "\u001b[0;32m<ipython-input-18-4a4bea83e9c1>\u001b[0m in \u001b[0;36m<cell line: 16>\u001b[0;34m()\u001b[0m\n\u001b[1;32m     14\u001b[0m \u001b[0mprint\u001b[0m\u001b[0;34m(\u001b[0m\u001b[0ma\u001b[0m\u001b[0;34m,\u001b[0m \u001b[0mb\u001b[0m\u001b[0;34m)\u001b[0m\u001b[0;34m\u001b[0m\u001b[0;34m\u001b[0m\u001b[0m\n\u001b[1;32m     15\u001b[0m \u001b[0;34m\u001b[0m\u001b[0m\n\u001b[0;32m---> 16\u001b[0;31m \u001b[0mprint\u001b[0m\u001b[0;34m(\u001b[0m\u001b[0mz\u001b[0m\u001b[0;34m)\u001b[0m\u001b[0;34m\u001b[0m\u001b[0;34m\u001b[0m\u001b[0m\n\u001b[0m",
            "\u001b[0;31mNameError\u001b[0m: name 'z' is not defined"
          ]
        }
      ]
    },
    {
      "cell_type": "code",
      "source": [
        "#1\n",
        "x = 100\n",
        "def plusX(x):\n",
        "    x = x + 100\n",
        "    return x\n",
        "\n",
        "print(plusX(10))"
      ],
      "metadata": {
        "id": "WtnC4c2AiM7p"
      },
      "execution_count": null,
      "outputs": []
    },
    {
      "cell_type": "code",
      "source": [
        "#2\n",
        "x = 100\n",
        "def plusX(z):\n",
        "    z = z + 100\n",
        "    return z\n",
        "\n",
        "print(plusX(10))"
      ],
      "metadata": {
        "colab": {
          "base_uri": "https://localhost:8080/"
        },
        "id": "oXza5tlcjQBQ",
        "outputId": "b74d5edb-8be7-4ccb-b5e2-25d5f463aead"
      },
      "execution_count": 1,
      "outputs": [
        {
          "output_type": "stream",
          "name": "stdout",
          "text": [
            "110\n"
          ]
        }
      ]
    },
    {
      "cell_type": "code",
      "source": [
        "#3\n",
        "x = 100\n",
        "def plusX(z):\n",
        "    z = z + x\n",
        "    return z\n",
        "\n",
        "print(plusX(10))"
      ],
      "metadata": {
        "colab": {
          "base_uri": "https://localhost:8080/"
        },
        "id": "gOyr7RKHmTg6",
        "outputId": "fc466394-300a-430c-dbe6-d2c6eeb40162"
      },
      "execution_count": 2,
      "outputs": [
        {
          "output_type": "stream",
          "name": "stdout",
          "text": [
            "110\n"
          ]
        }
      ]
    },
    {
      "cell_type": "code",
      "source": [
        "#4\n",
        "# 문제가 생기는 코드\n",
        "\n",
        "x = 100\n",
        "def plusX(z):\n",
        "    x = z + x\n",
        "    return z\n",
        "\n",
        "print(plusX(10))"
      ],
      "metadata": {
        "colab": {
          "base_uri": "https://localhost:8080/",
          "height": 330
        },
        "id": "MHhtlAvJmdA-",
        "outputId": "b4cf572a-fdaf-43ca-ed99-52aa35f9773e"
      },
      "execution_count": 3,
      "outputs": [
        {
          "output_type": "error",
          "ename": "UnboundLocalError",
          "evalue": "ignored",
          "traceback": [
            "\u001b[0;31m---------------------------------------------------------------------------\u001b[0m",
            "\u001b[0;31mUnboundLocalError\u001b[0m                         Traceback (most recent call last)",
            "\u001b[0;32m<ipython-input-3-c29737c1dbf1>\u001b[0m in \u001b[0;36m<cell line: 8>\u001b[0;34m()\u001b[0m\n\u001b[1;32m      6\u001b[0m     \u001b[0;32mreturn\u001b[0m \u001b[0mz\u001b[0m\u001b[0;34m\u001b[0m\u001b[0;34m\u001b[0m\u001b[0m\n\u001b[1;32m      7\u001b[0m \u001b[0;34m\u001b[0m\u001b[0m\n\u001b[0;32m----> 8\u001b[0;31m \u001b[0mprint\u001b[0m\u001b[0;34m(\u001b[0m\u001b[0mplusX\u001b[0m\u001b[0;34m(\u001b[0m\u001b[0;36m10\u001b[0m\u001b[0;34m)\u001b[0m\u001b[0;34m)\u001b[0m\u001b[0;34m\u001b[0m\u001b[0;34m\u001b[0m\u001b[0m\n\u001b[0m",
            "\u001b[0;32m<ipython-input-3-c29737c1dbf1>\u001b[0m in \u001b[0;36mplusX\u001b[0;34m(z)\u001b[0m\n\u001b[1;32m      3\u001b[0m \u001b[0mx\u001b[0m \u001b[0;34m=\u001b[0m \u001b[0;36m100\u001b[0m\u001b[0;34m\u001b[0m\u001b[0;34m\u001b[0m\u001b[0m\n\u001b[1;32m      4\u001b[0m \u001b[0;32mdef\u001b[0m \u001b[0mplusX\u001b[0m\u001b[0;34m(\u001b[0m\u001b[0mz\u001b[0m\u001b[0;34m)\u001b[0m\u001b[0;34m:\u001b[0m\u001b[0;34m\u001b[0m\u001b[0;34m\u001b[0m\u001b[0m\n\u001b[0;32m----> 5\u001b[0;31m     \u001b[0mx\u001b[0m \u001b[0;34m=\u001b[0m \u001b[0mz\u001b[0m \u001b[0;34m+\u001b[0m \u001b[0mx\u001b[0m\u001b[0;34m\u001b[0m\u001b[0;34m\u001b[0m\u001b[0m\n\u001b[0m\u001b[1;32m      6\u001b[0m     \u001b[0;32mreturn\u001b[0m \u001b[0mz\u001b[0m\u001b[0;34m\u001b[0m\u001b[0;34m\u001b[0m\u001b[0m\n\u001b[1;32m      7\u001b[0m \u001b[0;34m\u001b[0m\u001b[0m\n",
            "\u001b[0;31mUnboundLocalError\u001b[0m: local variable 'x' referenced before assignment"
          ]
        }
      ]
    },
    {
      "cell_type": "code",
      "source": [
        "x = 100\n",
        "def plusX(z):\n",
        "    global x # 권하진 않음. 밖의 수정권한을 주는 함수\n",
        "    x += 100\n",
        "    return z\n",
        "\n",
        "plusX(x)\n",
        "x"
      ],
      "metadata": {
        "colab": {
          "base_uri": "https://localhost:8080/"
        },
        "id": "1L3ERRHEmum-",
        "outputId": "8d49e183-f372-4dc5-ea9f-2c026ad8984d"
      },
      "execution_count": 18,
      "outputs": [
        {
          "output_type": "execute_result",
          "data": {
            "text/plain": [
              "200"
            ]
          },
          "metadata": {},
          "execution_count": 18
        }
      ]
    },
    {
      "cell_type": "code",
      "source": [
        "#5\n",
        "x = 100\n",
        "def plusX(x):\n",
        "    return x + 10\n",
        "\n",
        "x = plusX(x)"
      ],
      "metadata": {
        "id": "Or7A6DPAnMq9"
      },
      "execution_count": 6,
      "outputs": []
    },
    {
      "cell_type": "code",
      "source": [
        "a = 100\n",
        "def f():\n",
        "    a = a + 1\n",
        "f()"
      ],
      "metadata": {
        "colab": {
          "base_uri": "https://localhost:8080/",
          "height": 313
        },
        "id": "BXeYCNJknu9E",
        "outputId": "abb291cf-4ee5-4d0b-c9af-876905c38bbe"
      },
      "execution_count": 19,
      "outputs": [
        {
          "output_type": "error",
          "ename": "UnboundLocalError",
          "evalue": "ignored",
          "traceback": [
            "\u001b[0;31m---------------------------------------------------------------------------\u001b[0m",
            "\u001b[0;31mUnboundLocalError\u001b[0m                         Traceback (most recent call last)",
            "\u001b[0;32m<ipython-input-19-c1fea4ebbe47>\u001b[0m in \u001b[0;36m<cell line: 4>\u001b[0;34m()\u001b[0m\n\u001b[1;32m      2\u001b[0m \u001b[0;32mdef\u001b[0m \u001b[0mf\u001b[0m\u001b[0;34m(\u001b[0m\u001b[0;34m)\u001b[0m\u001b[0;34m:\u001b[0m\u001b[0;34m\u001b[0m\u001b[0;34m\u001b[0m\u001b[0m\n\u001b[1;32m      3\u001b[0m     \u001b[0ma\u001b[0m \u001b[0;34m=\u001b[0m \u001b[0ma\u001b[0m \u001b[0;34m+\u001b[0m \u001b[0;36m1\u001b[0m\u001b[0;34m\u001b[0m\u001b[0;34m\u001b[0m\u001b[0m\n\u001b[0;32m----> 4\u001b[0;31m \u001b[0mf\u001b[0m\u001b[0;34m(\u001b[0m\u001b[0;34m)\u001b[0m\u001b[0;34m\u001b[0m\u001b[0;34m\u001b[0m\u001b[0m\n\u001b[0m",
            "\u001b[0;32m<ipython-input-19-c1fea4ebbe47>\u001b[0m in \u001b[0;36mf\u001b[0;34m()\u001b[0m\n\u001b[1;32m      1\u001b[0m \u001b[0ma\u001b[0m \u001b[0;34m=\u001b[0m \u001b[0;36m100\u001b[0m\u001b[0;34m\u001b[0m\u001b[0;34m\u001b[0m\u001b[0m\n\u001b[1;32m      2\u001b[0m \u001b[0;32mdef\u001b[0m \u001b[0mf\u001b[0m\u001b[0;34m(\u001b[0m\u001b[0;34m)\u001b[0m\u001b[0;34m:\u001b[0m\u001b[0;34m\u001b[0m\u001b[0;34m\u001b[0m\u001b[0m\n\u001b[0;32m----> 3\u001b[0;31m     \u001b[0ma\u001b[0m \u001b[0;34m=\u001b[0m \u001b[0ma\u001b[0m \u001b[0;34m+\u001b[0m \u001b[0;36m1\u001b[0m\u001b[0;34m\u001b[0m\u001b[0;34m\u001b[0m\u001b[0m\n\u001b[0m\u001b[1;32m      4\u001b[0m \u001b[0mf\u001b[0m\u001b[0;34m(\u001b[0m\u001b[0;34m)\u001b[0m\u001b[0;34m\u001b[0m\u001b[0;34m\u001b[0m\u001b[0m\n",
            "\u001b[0;31mUnboundLocalError\u001b[0m: local variable 'a' referenced before assignment"
          ]
        }
      ]
    },
    {
      "cell_type": "code",
      "source": [
        "\n",
        "def plusX(z):\n",
        "    # v가 x를 가리키게 되었기 때문에 수정 권한이 오지 않았을까?\n",
        "  v = x \n",
        "  x = z + x\n",
        "  return z\n",
        "\n",
        "changePrint()"
      ],
      "metadata": {
        "colab": {
          "base_uri": "https://localhost:8080/",
          "height": 330
        },
        "id": "dDak_G3Mou7E",
        "outputId": "ffdd38aa-7ae5-4f16-a0e2-5d3187423d46"
      },
      "execution_count": 8,
      "outputs": [
        {
          "output_type": "error",
          "ename": "UnboundLocalError",
          "evalue": "ignored",
          "traceback": [
            "\u001b[0;31m---------------------------------------------------------------------------\u001b[0m",
            "\u001b[0;31mUnboundLocalError\u001b[0m                         Traceback (most recent call last)",
            "\u001b[0;32m<ipython-input-8-6ca6d9080669>\u001b[0m in \u001b[0;36m<cell line: 7>\u001b[0;34m()\u001b[0m\n\u001b[1;32m      5\u001b[0m   \u001b[0;32mreturn\u001b[0m \u001b[0mz\u001b[0m\u001b[0;34m\u001b[0m\u001b[0;34m\u001b[0m\u001b[0m\n\u001b[1;32m      6\u001b[0m \u001b[0;34m\u001b[0m\u001b[0m\n\u001b[0;32m----> 7\u001b[0;31m \u001b[0mplusX\u001b[0m\u001b[0;34m(\u001b[0m\u001b[0;36m10\u001b[0m\u001b[0;34m)\u001b[0m\u001b[0;34m\u001b[0m\u001b[0;34m\u001b[0m\u001b[0m\n\u001b[0m",
            "\u001b[0;32m<ipython-input-8-6ca6d9080669>\u001b[0m in \u001b[0;36mplusX\u001b[0;34m(z)\u001b[0m\n\u001b[1;32m      1\u001b[0m \u001b[0mx\u001b[0m \u001b[0;34m=\u001b[0m \u001b[0;36m100\u001b[0m\u001b[0;34m\u001b[0m\u001b[0;34m\u001b[0m\u001b[0m\n\u001b[1;32m      2\u001b[0m \u001b[0;32mdef\u001b[0m \u001b[0mplusX\u001b[0m\u001b[0;34m(\u001b[0m\u001b[0mz\u001b[0m\u001b[0;34m)\u001b[0m\u001b[0;34m:\u001b[0m\u001b[0;34m\u001b[0m\u001b[0;34m\u001b[0m\u001b[0m\n\u001b[0;32m----> 3\u001b[0;31m   \u001b[0mv\u001b[0m \u001b[0;34m=\u001b[0m \u001b[0mx\u001b[0m\u001b[0;34m\u001b[0m\u001b[0;34m\u001b[0m\u001b[0m\n\u001b[0m\u001b[1;32m      4\u001b[0m   \u001b[0mx\u001b[0m \u001b[0;34m=\u001b[0m \u001b[0mz\u001b[0m \u001b[0;34m+\u001b[0m \u001b[0mx\u001b[0m\u001b[0;34m\u001b[0m\u001b[0;34m\u001b[0m\u001b[0m\n\u001b[1;32m      5\u001b[0m   \u001b[0;32mreturn\u001b[0m \u001b[0mz\u001b[0m\u001b[0;34m\u001b[0m\u001b[0;34m\u001b[0m\u001b[0m\n",
            "\u001b[0;31mUnboundLocalError\u001b[0m: local variable 'x' referenced before assignment"
          ]
        }
      ]
    },
    {
      "cell_type": "markdown",
      "source": [
        "## 재귀함수\n",
        "\n",
        "* 내가 나를 호출하는 함수\n",
        "* 효율이 매우 안 좋음.\n",
        "* 다만 메모라이징 기법을 사용하면 \n",
        "* 대부분의 코드는 **for**로 대체가능\n",
        "* 다만 필수적으로 사용되는 곳이 있긴함."
      ],
      "metadata": {
        "id": "PxazIWa8q7Op"
      }
    },
    {
      "cell_type": "code",
      "source": [
        "#sys.setrecursionlimit -> 제한을 늘릴 수 있음\n",
        "def 숫자출력():\n",
        "    print(1)\n",
        "    return 숫자출력()\n",
        "숫자출력()"
      ],
      "metadata": {
        "id": "TAd6Apr6pQBQ"
      },
      "execution_count": null,
      "outputs": []
    },
    {
      "cell_type": "code",
      "source": [
        "#회문 - 앞뒤가 같은 문자 \n",
        "\n",
        "def factorial(n):\n",
        "    if n == 1:\n",
        "        return n\n",
        "    return n * factorial(n-1)\n",
        "\n",
        "factorial(5)\n",
        "\n",
        "#                 return 값\n",
        "# factorial(5) == 5 * factorial(4) == 5 * 24\n",
        "# factorial(4) == 4 * factorial(3) == 4 * 6\n",
        "# factorial(3) == 3 * factorial(2) == 3 * 2\n",
        "# factorial(2) == 2 * factorial(1) == 2 * 1\n",
        "# factorial(1) == 1 "
      ],
      "metadata": {
        "colab": {
          "base_uri": "https://localhost:8080/"
        },
        "id": "EhaGofqxsCd_",
        "outputId": "7ba53cf8-11e5-47ee-efb1-70eb6e4e41b8"
      },
      "execution_count": 9,
      "outputs": [
        {
          "output_type": "execute_result",
          "data": {
            "text/plain": [
              "120"
            ]
          },
          "metadata": {},
          "execution_count": 9
        }
      ]
    },
    {
      "cell_type": "code",
      "source": [
        "result = 1\n",
        "for i in range(1, 6):\n",
        "    result *= i\n",
        "\n",
        "result"
      ],
      "metadata": {
        "colab": {
          "base_uri": "https://localhost:8080/"
        },
        "id": "ePtgms8VsczM",
        "outputId": "3d82d2dc-eac6-41a5-cee7-bd2df9571371"
      },
      "execution_count": 10,
      "outputs": [
        {
          "output_type": "execute_result",
          "data": {
            "text/plain": [
              "120"
            ]
          },
          "metadata": {},
          "execution_count": 10
        }
      ]
    },
    {
      "cell_type": "code",
      "source": [
        "s = 'leehojun'\n",
        "result = ''\n",
        "for i in s:\n",
        "    result = result + i\n",
        "\n",
        "result"
      ],
      "metadata": {
        "colab": {
          "base_uri": "https://localhost:8080/",
          "height": 36
        },
        "id": "k0IFCnsftyOz",
        "outputId": "6ef2e334-beaa-4f83-fff2-b169fc1dc5d3"
      },
      "execution_count": 11,
      "outputs": [
        {
          "output_type": "execute_result",
          "data": {
            "text/plain": [
              "'leehojun'"
            ],
            "application/vnd.google.colaboratory.intrinsic+json": {
              "type": "string"
            }
          },
          "metadata": {},
          "execution_count": 11
        }
      ]
    },
    {
      "cell_type": "code",
      "source": [
        "s = 'leehojun'\n",
        "result = ''\n",
        "for i in s:\n",
        "    result = i + result\n",
        "\n",
        "result\n",
        "\n",
        "# 반복문"
      ],
      "metadata": {
        "colab": {
          "base_uri": "https://localhost:8080/",
          "height": 36
        },
        "id": "-T_T4fwFuCGe",
        "outputId": "9e0f9f8d-8f55-4130-d7a4-247462e5dde8"
      },
      "execution_count": 12,
      "outputs": [
        {
          "output_type": "execute_result",
          "data": {
            "text/plain": [
              "'nujoheel'"
            ],
            "application/vnd.google.colaboratory.intrinsic+json": {
              "type": "string"
            }
          },
          "metadata": {},
          "execution_count": 12
        }
      ]
    },
    {
      "cell_type": "code",
      "source": [
        "for i in 'leehojun':\n",
        "    print(i)"
      ],
      "metadata": {
        "colab": {
          "base_uri": "https://localhost:8080/"
        },
        "id": "UPyfcGk_uQ01",
        "outputId": "cffd9a51-7cc8-45b1-d3d7-ee3afde38607"
      },
      "execution_count": 13,
      "outputs": [
        {
          "output_type": "stream",
          "name": "stdout",
          "text": [
            "l\n",
            "e\n",
            "e\n",
            "h\n",
            "o\n",
            "j\n",
            "u\n",
            "n\n"
          ]
        }
      ]
    },
    {
      "cell_type": "code",
      "source": [
        "s = 'leehojun'\n",
        "result = ''\n",
        "for i in s:\n",
        "    print('----------')\n",
        "    print(i)\n",
        "    print(f'연산 전 result : {result}')\n",
        "    result = i + result\n",
        "    print(f'연산 후 result : {result}')\n",
        "\n",
        "result"
      ],
      "metadata": {
        "colab": {
          "base_uri": "https://localhost:8080/",
          "height": 607
        },
        "id": "N8En9Zwgux2I",
        "outputId": "1afe87ee-7650-4175-cf50-fcaae9ec55a6"
      },
      "execution_count": 14,
      "outputs": [
        {
          "output_type": "stream",
          "name": "stdout",
          "text": [
            "----------\n",
            "l\n",
            "연산 전 result : \n",
            "연산 후 result : l\n",
            "----------\n",
            "e\n",
            "연산 전 result : l\n",
            "연산 후 result : el\n",
            "----------\n",
            "e\n",
            "연산 전 result : el\n",
            "연산 후 result : eel\n",
            "----------\n",
            "h\n",
            "연산 전 result : eel\n",
            "연산 후 result : heel\n",
            "----------\n",
            "o\n",
            "연산 전 result : heel\n",
            "연산 후 result : oheel\n",
            "----------\n",
            "j\n",
            "연산 전 result : oheel\n",
            "연산 후 result : joheel\n",
            "----------\n",
            "u\n",
            "연산 전 result : joheel\n",
            "연산 후 result : ujoheel\n",
            "----------\n",
            "n\n",
            "연산 전 result : ujoheel\n",
            "연산 후 result : nujoheel\n"
          ]
        },
        {
          "output_type": "execute_result",
          "data": {
            "text/plain": [
              "'nujoheel'"
            ],
            "application/vnd.google.colaboratory.intrinsic+json": {
              "type": "string"
            }
          },
          "metadata": {},
          "execution_count": 14
        }
      ]
    },
    {
      "cell_type": "code",
      "source": [
        "def \bstring_reverse(s):   # return되면 종료라서 else가 반드시 필요하진 않음\n",
        "    if len(s) == 1: # 얼리리턴\n",
        "        return s\n",
        "    return string_reverse(s[1:]) + s[0]\n",
        "\n",
        "string_reverse('hello world')"
      ],
      "metadata": {
        "colab": {
          "base_uri": "https://localhost:8080/",
          "height": 134
        },
        "id": "UDIxYf3QvOVH",
        "outputId": "46ed0436-4dca-4ef8-e9be-019e4c9cf281"
      },
      "execution_count": 15,
      "outputs": [
        {
          "output_type": "error",
          "ename": "SyntaxError",
          "evalue": "ignored",
          "traceback": [
            "\u001b[0;36m  File \u001b[0;32m\"<ipython-input-15-513d73092af3>\"\u001b[0;36m, line \u001b[0;32m1\u001b[0m\n\u001b[0;31m    def \bstring_reverse(s):   # return되면 종료라서 else가 반드시 필요하진 않음\u001b[0m\n\u001b[0m        ^\u001b[0m\n\u001b[0;31mSyntaxError\u001b[0m\u001b[0;31m:\u001b[0m invalid syntax\n"
          ]
        }
      ]
    },
    {
      "cell_type": "code",
      "source": [
        "def string_reverse(s):\n",
        "    if len(s) == 1:\n",
        "        return s\n",
        "    return string_reverse(s[1:]) + s[0]\n",
        "\n",
        "string_reverse('hello')\n",
        "\n",
        "# string_reverse('hello')"
      ],
      "metadata": {
        "colab": {
          "base_uri": "https://localhost:8080/",
          "height": 36
        },
        "id": "B3cheF73wBvd",
        "outputId": "4bc6e204-78b9-4810-ed5f-73bc36226111"
      },
      "execution_count": 20,
      "outputs": [
        {
          "output_type": "execute_result",
          "data": {
            "text/plain": [
              "'olleh'"
            ],
            "application/vnd.google.colaboratory.intrinsic+json": {
              "type": "string"
            }
          },
          "metadata": {},
          "execution_count": 20
        }
      ]
    },
    {
      "cell_type": "code",
      "source": [
        "def string_reverse(s):\n",
        "    if len(s) == 1:\n",
        "        return s\n",
        "    return string_reverse(s[1:]) + s[0]\n",
        "\n",
        "string_reverse('hello')\n",
        "\n",
        "# string_reverse('hello') == string_reverse('ello') + 'h' == 'olle' + 'h' == 'olleh'\n",
        "# string_reverse('ello') == string_reverse('llo') + 'e' == 'oll' + 'e' == 'olle'\n",
        "# string_reverse('llo') == string_reverse('lo') + 'l' == 'ol' + 'l' == 'oll'\n",
        "# string_reverse('lo') == string_reverse('o') + 'l' == 'o' + 'l' == 'ol'\n",
        "# string_reverse('o') == 'o'"
      ],
      "metadata": {
        "id": "njwT8Pz4CDN2"
      },
      "execution_count": null,
      "outputs": []
    },
    {
      "cell_type": "code",
      "source": [
        "# 메서드 대신 슬라이싱 구현/ 슬라이징...!\n",
        "# 재귀는 최후의 수단"
      ],
      "metadata": {
        "id": "1IjrI_wQD9hw"
      },
      "execution_count": null,
      "outputs": []
    },
    {
      "cell_type": "code",
      "source": [
        "# 재귀의 비효율성을 표현하는 함수\n",
        "from functools import lru_cache\n",
        "\n",
        "@lru_cache(maxsize=None)\n",
        "def fib(num):\n",
        "    if num == 0:\n",
        "        return 0\n",
        "    if num == 1 or num == 2:\n",
        "        return 1\n",
        "    else:\n",
        "        return fib(num-1) + fib(num-2)\n",
        "\n",
        "fib(40)"
      ],
      "metadata": {
        "id": "ULK6omoqFGk2"
      },
      "execution_count": null,
      "outputs": []
    },
    {
      "cell_type": "code",
      "source": [
        "# 연습문제\n",
        "a = 'pithon'\n",
        "\n",
        "def 함수1():\n",
        "    def 함수2():\n",
        "        print('love')\n",
        "        \n",
        "    print('I')\n",
        "    함수2()\n",
        "    return \"python\"\n",
        "\t\n",
        "\n",
        "a = 함수1()\n",
        "print(a)"
      ],
      "metadata": {
        "colab": {
          "base_uri": "https://localhost:8080/"
        },
        "id": "yGinB06IHNvk",
        "outputId": "c5b0ff89-1a08-4f1c-d2b7-b3b97f400b55"
      },
      "execution_count": 21,
      "outputs": [
        {
          "output_type": "stream",
          "name": "stdout",
          "text": [
            "I\n",
            "love\n",
            "python\n"
          ]
        }
      ]
    },
    {
      "cell_type": "code",
      "source": [
        "# 좋은 코드는 아님\n",
        "\n",
        "def plus(num1, num2):\n",
        "    return int(num1) + int(num2)\n",
        "\n",
        "def minus(num1, num2):\n",
        "    return num1 - num2\n",
        "def multiply(num1, num2):\n",
        "    return num1 * num2\n",
        "def divide(num1, num2):\n",
        "    return num1 / num2\n",
        "\n",
        "print('plus : ',plus(10,5))\n",
        "print('minus : ',minus(10,5))\n",
        "print('multiply : ',multiply(10,5))\n",
        "print('divide : ',divide(10,5))"
      ],
      "metadata": {
        "colab": {
          "base_uri": "https://localhost:8080/"
        },
        "id": "L0VUEhpTHXX3",
        "outputId": "6f17095a-a83d-4a9f-baae-919f3e957742"
      },
      "execution_count": 22,
      "outputs": [
        {
          "output_type": "stream",
          "name": "stdout",
          "text": [
            "plus :  15\n",
            "minus :  5\n",
            "multiply :  50\n",
            "divide :  2.0\n"
          ]
        }
      ]
    },
    {
      "cell_type": "code",
      "source": [
        "def plus(num1, num2):\n",
        "    return int(num1) + int(num2)\n",
        "\n",
        "print(f'plus : {plus(10, 5)}')\n",
        "print(f'plus : {plus(\"10\", \"5\")}')\n",
        "print(f'plus : {plus(\"10\", 5)}')\n",
        "print(f'plus : {plus(10, \"5\")}')\n",
        "print(f'plus : {plus(\"abc\", 5)}')\n",
        "print(f'plus : {plus(10, \"abc\")}')"
      ],
      "metadata": {
        "colab": {
          "base_uri": "https://localhost:8080/",
          "height": 420
        },
        "id": "AIhfK1DRHmqk",
        "outputId": "2dd7d692-a0ec-4dff-9a58-d9e476d209e6"
      },
      "execution_count": 23,
      "outputs": [
        {
          "output_type": "stream",
          "name": "stdout",
          "text": [
            "plus : 15\n",
            "plus : 15\n",
            "plus : 15\n",
            "plus : 15\n"
          ]
        },
        {
          "output_type": "error",
          "ename": "ValueError",
          "evalue": "ignored",
          "traceback": [
            "\u001b[0;31m---------------------------------------------------------------------------\u001b[0m",
            "\u001b[0;31mValueError\u001b[0m                                Traceback (most recent call last)",
            "\u001b[0;32m<ipython-input-23-28d40f377929>\u001b[0m in \u001b[0;36m<cell line: 8>\u001b[0;34m()\u001b[0m\n\u001b[1;32m      6\u001b[0m \u001b[0mprint\u001b[0m\u001b[0;34m(\u001b[0m\u001b[0;34mf'plus : {plus(\"10\", 5)}'\u001b[0m\u001b[0;34m)\u001b[0m\u001b[0;34m\u001b[0m\u001b[0;34m\u001b[0m\u001b[0m\n\u001b[1;32m      7\u001b[0m \u001b[0mprint\u001b[0m\u001b[0;34m(\u001b[0m\u001b[0;34mf'plus : {plus(10, \"5\")}'\u001b[0m\u001b[0;34m)\u001b[0m\u001b[0;34m\u001b[0m\u001b[0;34m\u001b[0m\u001b[0m\n\u001b[0;32m----> 8\u001b[0;31m \u001b[0mprint\u001b[0m\u001b[0;34m(\u001b[0m\u001b[0;34mf'plus : {plus(\"abc\", 5)}'\u001b[0m\u001b[0;34m)\u001b[0m\u001b[0;34m\u001b[0m\u001b[0;34m\u001b[0m\u001b[0m\n\u001b[0m\u001b[1;32m      9\u001b[0m \u001b[0mprint\u001b[0m\u001b[0;34m(\u001b[0m\u001b[0;34mf'plus : {plus(10, \"abc\")}'\u001b[0m\u001b[0;34m)\u001b[0m\u001b[0;34m\u001b[0m\u001b[0;34m\u001b[0m\u001b[0m\n",
            "\u001b[0;32m<ipython-input-23-28d40f377929>\u001b[0m in \u001b[0;36mplus\u001b[0;34m(num1, num2)\u001b[0m\n\u001b[1;32m      1\u001b[0m \u001b[0;32mdef\u001b[0m \u001b[0mplus\u001b[0m\u001b[0;34m(\u001b[0m\u001b[0mnum1\u001b[0m\u001b[0;34m,\u001b[0m \u001b[0mnum2\u001b[0m\u001b[0;34m)\u001b[0m\u001b[0;34m:\u001b[0m\u001b[0;34m\u001b[0m\u001b[0;34m\u001b[0m\u001b[0m\n\u001b[0;32m----> 2\u001b[0;31m     \u001b[0;32mreturn\u001b[0m \u001b[0mint\u001b[0m\u001b[0;34m(\u001b[0m\u001b[0mnum1\u001b[0m\u001b[0;34m)\u001b[0m \u001b[0;34m+\u001b[0m \u001b[0mint\u001b[0m\u001b[0;34m(\u001b[0m\u001b[0mnum2\u001b[0m\u001b[0;34m)\u001b[0m\u001b[0;34m\u001b[0m\u001b[0;34m\u001b[0m\u001b[0m\n\u001b[0m\u001b[1;32m      3\u001b[0m \u001b[0;34m\u001b[0m\u001b[0m\n\u001b[1;32m      4\u001b[0m \u001b[0mprint\u001b[0m\u001b[0;34m(\u001b[0m\u001b[0;34mf'plus : {plus(10, 5)}'\u001b[0m\u001b[0;34m)\u001b[0m\u001b[0;34m\u001b[0m\u001b[0;34m\u001b[0m\u001b[0m\n\u001b[1;32m      5\u001b[0m \u001b[0mprint\u001b[0m\u001b[0;34m(\u001b[0m\u001b[0;34mf'plus : {plus(\"10\", \"5\")}'\u001b[0m\u001b[0;34m)\u001b[0m\u001b[0;34m\u001b[0m\u001b[0;34m\u001b[0m\u001b[0m\n",
            "\u001b[0;31mValueError\u001b[0m: invalid literal for int() with base 10: 'abc'"
          ]
        }
      ]
    },
    {
      "cell_type": "code",
      "source": [
        "def plus(num1, num2):\n",
        "   try:\n",
        "       result = int(num1) + int(num2)\n",
        "       return result\n",
        "   except: \n",
        "        return '연산할 수 없습니다.'\n",
        "\n",
        "    \n",
        "\n",
        "print(f'plus : {plus(10, 5)}')\n",
        "print(f'plus : {plus(\"10\", \"5\")}')\n",
        "print(f'plus : {plus(\"10\", 5)}')\n",
        "print(f'plus : {plus(10, \"5\")}')\n",
        "print(f'plus : {plus(\"abc\", 5)}')\n",
        "print(f'plus : {plus(10, \"abc\")}')"
      ],
      "metadata": {
        "colab": {
          "base_uri": "https://localhost:8080/"
        },
        "id": "OO22H5xNJ7_w",
        "outputId": "62b0b2f8-8c6e-487e-d63b-e9063b02cccd"
      },
      "execution_count": 29,
      "outputs": [
        {
          "output_type": "stream",
          "name": "stdout",
          "text": [
            "plus : 15\n",
            "plus : 15\n",
            "plus : 15\n",
            "plus : 15\n",
            "plus : 연산할 수 없습니다.\n",
            "plus : 연산할 수 없습니다.\n"
          ]
        }
      ]
    },
    {
      "cell_type": "code",
      "source": [
        "def plus(num1, num2):\n",
        "    try:\n",
        "        result = int(num1) + int(num2)\n",
        "        return result\n",
        "    except:\n",
        "        return '연산할 수 없습니다.'\n",
        "\n",
        "print(f'plus : {plus(10, 5)}')\n",
        "print(f'plus : {plus(\"10\", \"5\")}')\n",
        "print(f'plus : {plus(\"10\", 5)}')\n",
        "print(f'plus : {plus(10, \"5\")}')\n",
        "print(f'plus : {plus(\"abc\", 5)}')\n",
        "print(f'plus : {plus(10, \"abc\")}')"
      ],
      "metadata": {
        "colab": {
          "base_uri": "https://localhost:8080/"
        },
        "id": "mniXaXESLFfH",
        "outputId": "02cd82e0-1d45-4a2d-a088-9afeb4d6dc8b"
      },
      "execution_count": 26,
      "outputs": [
        {
          "output_type": "stream",
          "name": "stdout",
          "text": [
            "plus : 15\n",
            "plus : 15\n",
            "plus : 15\n",
            "plus : 15\n",
            "plus : 연산할 수 없습니다.\n",
            "plus : 연산할 수 없습니다.\n"
          ]
        }
      ]
    },
    {
      "cell_type": "code",
      "source": [
        "float(\"inf\") > 1000000000000000000000"
      ],
      "metadata": {
        "colab": {
          "base_uri": "https://localhost:8080/"
        },
        "id": "UEj5Hwp_LJsu",
        "outputId": "4b4b4bf1-a848-43f9-eacb-30efcffbc3f6"
      },
      "execution_count": 30,
      "outputs": [
        {
          "output_type": "execute_result",
          "data": {
            "text/plain": [
              "True"
            ]
          },
          "metadata": {},
          "execution_count": 30
        }
      ]
    },
    {
      "cell_type": "code",
      "source": [
        "#lambda 뒤에서 배울거임~\n",
        "\n",
        "plus = lambda x, y: x + y\n",
        "minus = lambda x, y: x - y\n",
        "multiply = lambda x, y: x * y\n",
        "divide = lambda x, y: x / y\n",
        "\n",
        "print(f'plus : {plus(10, 5)}')\n",
        "print(f'minus : {minus(10, 5)}')\n",
        "print(f'multiply : {multiply(10, 5)}')\n",
        "print(f'divide : {divide(10, 5)}')"
      ],
      "metadata": {
        "colab": {
          "base_uri": "https://localhost:8080/"
        },
        "id": "qr1oddNBLf7v",
        "outputId": "20c9aee5-7002-4641-9ed1-17a3c94bec57"
      },
      "execution_count": 31,
      "outputs": [
        {
          "output_type": "stream",
          "name": "stdout",
          "text": [
            "plus : 15\n",
            "minus : 5\n",
            "multiply : 50\n",
            "divide : 2.0\n"
          ]
        }
      ]
    },
    {
      "cell_type": "code",
      "source": [
        "#연습문제3\n",
        "#x의 n제곱을 구하는 함수를 만들어주세요.\n",
        "#재귀함수를 이용하여 만들어야하며, x는 0이 아닙니다."
      ],
      "metadata": {
        "id": "hX5Zox73Lxd_"
      },
      "execution_count": null,
      "outputs": []
    },
    {
      "cell_type": "code",
      "source": [
        "#연습문제3 풀이1\n",
        "\n",
        "def 제곱(x, n):\n",
        "    if n == 0:\n",
        "        return 1\n",
        "    return x * 제곱(x, n-1)\n",
        "\n",
        "제곱(3, 4)"
      ],
      "metadata": {
        "colab": {
          "base_uri": "https://localhost:8080/"
        },
        "id": "XK5amyQtMcvi",
        "outputId": "de84a6fd-8e47-4de4-d929-e4a7e225a236"
      },
      "execution_count": 34,
      "outputs": [
        {
          "output_type": "execute_result",
          "data": {
            "text/plain": [
              "81"
            ]
          },
          "metadata": {},
          "execution_count": 34
        }
      ]
    },
    {
      "cell_type": "code",
      "source": [
        "\n",
        "def 제곱(n):\n",
        "    if n == 0:\n",
        "        return 1\n",
        "    return x * 제곱(n-1)\n",
        "\n",
        "제곱(3)\n",
        "제곱(4)"
      ],
      "metadata": {
        "colab": {
          "base_uri": "https://localhost:8080/"
        },
        "id": "HfeZxykPROun",
        "outputId": "35b8c6a9-81b0-452e-b413-f20236b48647"
      },
      "execution_count": 36,
      "outputs": [
        {
          "output_type": "execute_result",
          "data": {
            "text/plain": [
              "1600000000"
            ]
          },
          "metadata": {},
          "execution_count": 36
        }
      ]
    },
    {
      "cell_type": "code",
      "source": [
        "# factory 함수\n",
        "# 클로저\n",
        "def factory(x):\n",
        "    def 승수(n):\n",
        "        return x ** n\n",
        "    return 승수\n",
        "\n",
        "제곱3 = factory(3)\n",
        "\n",
        "# 실제 제곱3는 아래와 같습니다.\n",
        "# def 승수(n):\n",
        "#     return 3 ** n\n",
        "\n",
        "제곱4 = factory(4)\n",
        "\n",
        "제곱3(2)\n",
        "제곱3(3)\n",
        "제곱4(2)\n",
        "제곱4(3)"
      ],
      "metadata": {
        "id": "YGhzJseWPMFQ"
      },
      "execution_count": null,
      "outputs": []
    },
    {
      "cell_type": "markdown",
      "source": [
        "## 리스트\n",
        "\n",
        "* 순서가 있는 데이터\n",
        "* 값의 수정이 가능함.\n"
      ],
      "metadata": {
        "id": "Ob1kDzxnS3lJ"
      }
    },
    {
      "cell_type": "code",
      "source": [
        "l = [10, 20, 30, 40]"
      ],
      "metadata": {
        "id": "M3-1msEeS43w"
      },
      "execution_count": 37,
      "outputs": []
    },
    {
      "cell_type": "code",
      "source": [
        "l[0]"
      ],
      "metadata": {
        "colab": {
          "base_uri": "https://localhost:8080/"
        },
        "id": "A7sVXYkOTKxz",
        "outputId": "48862674-ec09-4111-c1b1-156c3a72ce34"
      },
      "execution_count": 38,
      "outputs": [
        {
          "output_type": "execute_result",
          "data": {
            "text/plain": [
              "10"
            ]
          },
          "metadata": {},
          "execution_count": 38
        }
      ]
    },
    {
      "cell_type": "code",
      "source": [
        "l[0] = 1000\n",
        "l # mutable한 객체 <=> immutable한 객체(문자열)"
      ],
      "metadata": {
        "colab": {
          "base_uri": "https://localhost:8080/"
        },
        "id": "7w6J_9GxTL3b",
        "outputId": "4463b289-a141-4838-8e5f-3c183ccce9a7"
      },
      "execution_count": 39,
      "outputs": [
        {
          "output_type": "execute_result",
          "data": {
            "text/plain": [
              "[1000, 20, 30, 40]"
            ]
          },
          "metadata": {},
          "execution_count": 39
        }
      ]
    },
    {
      "cell_type": "code",
      "source": [
        "s = 'hello'\n",
        "s[0] = 'k' #error ! immutable 한 객체"
      ],
      "metadata": {
        "colab": {
          "base_uri": "https://localhost:8080/",
          "height": 188
        },
        "id": "xHoAoj_xTSP8",
        "outputId": "441423d3-af57-4023-e2c0-bea1bdea2193"
      },
      "execution_count": 40,
      "outputs": [
        {
          "output_type": "error",
          "ename": "TypeError",
          "evalue": "ignored",
          "traceback": [
            "\u001b[0;31m---------------------------------------------------------------------------\u001b[0m",
            "\u001b[0;31mTypeError\u001b[0m                                 Traceback (most recent call last)",
            "\u001b[0;32m<ipython-input-40-ab6c19228559>\u001b[0m in \u001b[0;36m<cell line: 2>\u001b[0;34m()\u001b[0m\n\u001b[1;32m      1\u001b[0m \u001b[0ms\u001b[0m \u001b[0;34m=\u001b[0m \u001b[0;34m'hello'\u001b[0m\u001b[0;34m\u001b[0m\u001b[0;34m\u001b[0m\u001b[0m\n\u001b[0;32m----> 2\u001b[0;31m \u001b[0ms\u001b[0m\u001b[0;34m[\u001b[0m\u001b[0;36m0\u001b[0m\u001b[0;34m]\u001b[0m \u001b[0;34m=\u001b[0m \u001b[0;34m'k'\u001b[0m\u001b[0;34m\u001b[0m\u001b[0;34m\u001b[0m\u001b[0m\n\u001b[0m",
            "\u001b[0;31mTypeError\u001b[0m: 'str' object does not support item assignment"
          ]
        }
      ]
    },
    {
      "cell_type": "code",
      "source": [
        "data = [[1, 2, 3],\n",
        "        [4, 5, 6],\n",
        "        [7, 8, 9]]\n",
        "\n",
        "data"
      ],
      "metadata": {
        "colab": {
          "base_uri": "https://localhost:8080/"
        },
        "id": "hbMUwWIETdmW",
        "outputId": "ac256c66-9769-4c1c-dd67-858bba3244d9"
      },
      "execution_count": 2,
      "outputs": [
        {
          "output_type": "execute_result",
          "data": {
            "text/plain": [
              "[[1, 2, 3], [4, 5, 6], [7, 8, 9]]"
            ]
          },
          "metadata": {},
          "execution_count": 2
        }
      ]
    },
    {
      "cell_type": "code",
      "source": [
        "data[0]"
      ],
      "metadata": {
        "colab": {
          "base_uri": "https://localhost:8080/"
        },
        "id": "fzmpXYGOUPMs",
        "outputId": "aa4c4781-973c-4294-f086-6f012b29d924"
      },
      "execution_count": 3,
      "outputs": [
        {
          "output_type": "execute_result",
          "data": {
            "text/plain": [
              "[1, 2, 3]"
            ]
          },
          "metadata": {},
          "execution_count": 3
        }
      ]
    },
    {
      "cell_type": "code",
      "source": [
        "data[0][0]"
      ],
      "metadata": {
        "colab": {
          "base_uri": "https://localhost:8080/"
        },
        "id": "a0_BhovkUWnK",
        "outputId": "ecf2bcc2-70e8-4674-90bd-6bf293f45da9"
      },
      "execution_count": 4,
      "outputs": [
        {
          "output_type": "execute_result",
          "data": {
            "text/plain": [
              "1"
            ]
          },
          "metadata": {},
          "execution_count": 4
        }
      ]
    },
    {
      "cell_type": "code",
      "source": [
        "data = [[1, 2, 3], [4, 5, 6], [7, 8, 9]]\n",
        "data[0][0] = data[0][0] * 2\n",
        "data[0][1] = data[0][1] * 2\n",
        "data[0][2] = data[0][2] * 2\n",
        "data[1][0] = data[0][0] * 2\n",
        "data[1][1] = data[1][1] * 2\n",
        "data[1][2] = data[1][2] * 2\n",
        "data[2][0] = data[2][0] * 2\n",
        "data[2][1] = data[2][1] * 2\n",
        "data[2][2] = data[2][2] * 2\n",
        "data\n"
      ],
      "metadata": {
        "colab": {
          "base_uri": "https://localhost:8080/"
        },
        "id": "gIOlc-bbUfEE",
        "outputId": "f90f1eea-9644-4f7f-b3fa-d6c7ca3e9660"
      },
      "execution_count": 8,
      "outputs": [
        {
          "output_type": "execute_result",
          "data": {
            "text/plain": [
              "[[2, 4, 6], [4, 10, 12], [14, 16, 18]]"
            ]
          },
          "metadata": {},
          "execution_count": 8
        }
      ]
    },
    {
      "cell_type": "code",
      "source": [
        "data = [[1, 2, 3], [4, 5, 6], [7, 8, 9]]\n",
        "\n",
        "for i in range(3):\n",
        "    data[i][0] = data[i][0] * 2\n",
        "    data[i][1] = data[i][1] * 2\n",
        "    data[i][2] = data[i][2] * 2\n",
        "data"
      ],
      "metadata": {
        "id": "WwMWOciZVzVW"
      },
      "execution_count": null,
      "outputs": []
    },
    {
      "cell_type": "code",
      "source": [
        "for i in range(len(data)):\n",
        "    for j in range(len(data[1])):\n",
        "        data[i][j] *= 2\n",
        "\n",
        "data"
      ],
      "metadata": {
        "id": "Yj4-Z61TV2Dz"
      },
      "execution_count": null,
      "outputs": []
    },
    {
      "cell_type": "code",
      "source": [
        "for i in range(len(data)):\n",
        "    for j in range(len(data[1])):\n",
        "        data[i][j] *= 2\n",
        "\n",
        "data"
      ],
      "metadata": {
        "colab": {
          "base_uri": "https://localhost:8080/"
        },
        "id": "TRlT6GX9T4jc",
        "outputId": "599b67c5-c7f2-4793-caaa-0e75c27a8b78"
      },
      "execution_count": 42,
      "outputs": [
        {
          "output_type": "execute_result",
          "data": {
            "text/plain": [
              "[[2, 4, 6], [8, 10, 12], [14, 16, 18]]"
            ]
          },
          "metadata": {},
          "execution_count": 42
        }
      ]
    },
    {
      "cell_type": "code",
      "source": [
        "# data[start:stop:step]\n",
        "data = [10, 20, 30, 40, 50, 60, 70]\n",
        "data[1:]\n",
        "data[1:-1]\n",
        "data[::2]\n",
        "data[:] # 매우 중요! 원본과 다른 값"
      ],
      "metadata": {
        "colab": {
          "base_uri": "https://localhost:8080/"
        },
        "id": "Bi7w_q8BUHwu",
        "outputId": "537281d7-6483-4e6c-fc6d-340170107e6b"
      },
      "execution_count": 12,
      "outputs": [
        {
          "output_type": "execute_result",
          "data": {
            "text/plain": [
              "[10, 30, 50, 70]"
            ]
          },
          "metadata": {},
          "execution_count": 12
        }
      ]
    },
    {
      "cell_type": "code",
      "source": [
        "data = [10, 20, 30, 40, 50, 60, 70]\n",
        "data2 = data\n",
        "data2[0] = 100\n",
        "data2"
      ],
      "metadata": {
        "colab": {
          "base_uri": "https://localhost:8080/"
        },
        "id": "FBUUpfByWq8r",
        "outputId": "12155678-1b1c-4e9b-b95d-70f8e52b0407"
      },
      "execution_count": 13,
      "outputs": [
        {
          "output_type": "execute_result",
          "data": {
            "text/plain": [
              "[100, 20, 30, 40, 50, 60, 70]"
            ]
          },
          "metadata": {},
          "execution_count": 13
        }
      ]
    },
    {
      "cell_type": "code",
      "source": [
        "data = [10, 20, 30, 40, 50, 60, 70]\n",
        "data2 = data[:] # data[::2]\n",
        "data2[0] = 100\n",
        "data2, data"
      ],
      "metadata": {
        "colab": {
          "base_uri": "https://localhost:8080/"
        },
        "id": "XaVbFfo4Xf8Z",
        "outputId": "e76f6966-3e80-46b6-d388-a548e978a80f"
      },
      "execution_count": 16,
      "outputs": [
        {
          "output_type": "execute_result",
          "data": {
            "text/plain": [
              "([100, 20, 30, 40, 50, 60, 70], [10, 20, 30, 40, 50, 60, 70])"
            ]
          },
          "metadata": {},
          "execution_count": 16
        }
      ]
    },
    {
      "cell_type": "code",
      "source": [
        "[1, 2, 3] + [1, 2, 3]"
      ],
      "metadata": {
        "colab": {
          "base_uri": "https://localhost:8080/"
        },
        "id": "PGJUrl5LXrI5",
        "outputId": "7f9a57a0-c610-4718-ed72-892f19895ef1"
      },
      "execution_count": 17,
      "outputs": [
        {
          "output_type": "execute_result",
          "data": {
            "text/plain": [
              "[1, 2, 3, 1, 2, 3]"
            ]
          },
          "metadata": {},
          "execution_count": 17
        }
      ]
    },
    {
      "cell_type": "code",
      "source": [
        "[1, 2, 3] * 2"
      ],
      "metadata": {
        "colab": {
          "base_uri": "https://localhost:8080/"
        },
        "id": "7pCY5o8FX-zU",
        "outputId": "cb7b343f-34f1-4c24-de26-8bbff9b12b1f"
      },
      "execution_count": 18,
      "outputs": [
        {
          "output_type": "execute_result",
          "data": {
            "text/plain": [
              "[1, 2, 3, 1, 2, 3]"
            ]
          },
          "metadata": {},
          "execution_count": 18
        }
      ]
    },
    {
      "cell_type": "code",
      "source": [
        "x = [[[10]*3]*3]*4\n",
        "x"
      ],
      "metadata": {
        "colab": {
          "base_uri": "https://localhost:8080/"
        },
        "id": "xqM-hnE1YA0N",
        "outputId": "f393d74f-4770-4b61-8223-04df6801819d"
      },
      "execution_count": 19,
      "outputs": [
        {
          "output_type": "execute_result",
          "data": {
            "text/plain": [
              "[[[10, 10, 10], [10, 10, 10], [10, 10, 10]],\n",
              " [[10, 10, 10], [10, 10, 10], [10, 10, 10]],\n",
              " [[10, 10, 10], [10, 10, 10], [10, 10, 10]],\n",
              " [[10, 10, 10], [10, 10, 10], [10, 10, 10]]]"
            ]
          },
          "metadata": {},
          "execution_count": 19
        }
      ]
    },
    {
      "cell_type": "code",
      "source": [
        "x[0][0][0] = 100\n",
        "x\n"
      ],
      "metadata": {
        "colab": {
          "base_uri": "https://localhost:8080/"
        },
        "id": "szxh7sNFYU5-",
        "outputId": "5ef7bc8d-96c3-4abc-fe8d-79cf8cef5f7e"
      },
      "execution_count": 20,
      "outputs": [
        {
          "output_type": "execute_result",
          "data": {
            "text/plain": [
              "[[[100, 10, 10], [100, 10, 10], [100, 10, 10]],\n",
              " [[100, 10, 10], [100, 10, 10], [100, 10, 10]],\n",
              " [[100, 10, 10], [100, 10, 10], [100, 10, 10]],\n",
              " [[100, 10, 10], [100, 10, 10], [100, 10, 10]]]"
            ]
          },
          "metadata": {},
          "execution_count": 20
        }
      ]
    },
    {
      "cell_type": "code",
      "source": [
        "id(x[0][0]), id(x[0][1])"
      ],
      "metadata": {
        "colab": {
          "base_uri": "https://localhost:8080/"
        },
        "id": "AzjBCy1zYc_r",
        "outputId": "4655fb7e-d532-4016-a5cb-2845e78b66d8"
      },
      "execution_count": 22,
      "outputs": [
        {
          "output_type": "execute_result",
          "data": {
            "text/plain": [
              "(140552054916992, 140552054916992)"
            ]
          },
          "metadata": {},
          "execution_count": 22
        }
      ]
    },
    {
      "cell_type": "code",
      "source": [
        "# 얕은 곱하기는 메모리를 복사하지 않습니다.\n",
        "x = [1, 2, 3] * 2\n"
      ],
      "metadata": {
        "id": "V5wBK0uJYhNy"
      },
      "execution_count": null,
      "outputs": []
    },
    {
      "cell_type": "code",
      "source": [
        "l = [10, 20, 30, 40]\n",
        "type(l), dir(l)\n"
      ],
      "metadata": {
        "colab": {
          "base_uri": "https://localhost:8080/"
        },
        "id": "yIStCFVOZNrw",
        "outputId": "b1f56478-fe05-4402-cc6e-b0a1d213f8fc"
      },
      "execution_count": 23,
      "outputs": [
        {
          "output_type": "execute_result",
          "data": {
            "text/plain": [
              "(list,\n",
              " ['__add__',\n",
              "  '__class__',\n",
              "  '__class_getitem__',\n",
              "  '__contains__',\n",
              "  '__delattr__',\n",
              "  '__delitem__',\n",
              "  '__dir__',\n",
              "  '__doc__',\n",
              "  '__eq__',\n",
              "  '__format__',\n",
              "  '__ge__',\n",
              "  '__getattribute__',\n",
              "  '__getitem__',\n",
              "  '__gt__',\n",
              "  '__hash__',\n",
              "  '__iadd__',\n",
              "  '__imul__',\n",
              "  '__init__',\n",
              "  '__init_subclass__',\n",
              "  '__iter__',\n",
              "  '__le__',\n",
              "  '__len__',\n",
              "  '__lt__',\n",
              "  '__mul__',\n",
              "  '__ne__',\n",
              "  '__new__',\n",
              "  '__reduce__',\n",
              "  '__reduce_ex__',\n",
              "  '__repr__',\n",
              "  '__reversed__',\n",
              "  '__rmul__',\n",
              "  '__setattr__',\n",
              "  '__setitem__',\n",
              "  '__sizeof__',\n",
              "  '__str__',\n",
              "  '__subclasshook__',\n",
              "  'append',\n",
              "  'clear',\n",
              "  'copy',\n",
              "  'count',\n",
              "  'extend',\n",
              "  'index',\n",
              "  'insert',\n",
              "  'pop',\n",
              "  'remove',\n",
              "  'reverse',\n",
              "  'sort'])"
            ]
          },
          "metadata": {},
          "execution_count": 23
        }
      ]
    },
    {
      "cell_type": "code",
      "source": [
        "#'append' 맨뒤에 추가(extend도 맨뒤에 추가)/리스트로 들어감,'clear'비우기, 'copy'똑같이 복사,'count'갯수세기, 'extend',\n",
        "#'index'위치를 알려줌, 'insert'요소 삭제없이 특정 위치에 삽입\n",
        "#,'pop'맨뒤에거 꺼냄 pop(o) 맨앞에서 꺼냄,'remove'처음 나온 해당값 삭제,\n",
        "#'reverse','sort'"
      ],
      "metadata": {
        "id": "iGtay-lQZSp7"
      },
      "execution_count": 24,
      "outputs": []
    },
    {
      "cell_type": "code",
      "source": [
        "l = [10, 20, 30, 40]\n",
        "l"
      ],
      "metadata": {
        "colab": {
          "base_uri": "https://localhost:8080/"
        },
        "id": "07jJdZ7rZk3j",
        "outputId": "b17275ba-2d69-45f2-a240-0983cec441f1"
      },
      "execution_count": 25,
      "outputs": [
        {
          "output_type": "execute_result",
          "data": {
            "text/plain": [
              "[10, 20, 30, 40]"
            ]
          },
          "metadata": {},
          "execution_count": 25
        }
      ]
    },
    {
      "cell_type": "code",
      "source": [],
      "metadata": {
        "id": "SerHz56Yeo0P"
      },
      "execution_count": null,
      "outputs": []
    },
    {
      "cell_type": "code",
      "source": [
        "l = [10, 20, 30, 40]\n",
        "l.append(50)\n",
        "l"
      ],
      "metadata": {
        "colab": {
          "base_uri": "https://localhost:8080/"
        },
        "id": "s7njpOCQZn6i",
        "outputId": "9aaec1aa-ea4c-43d5-bc42-6603dc697d47"
      },
      "execution_count": 26,
      "outputs": [
        {
          "output_type": "execute_result",
          "data": {
            "text/plain": [
              "[10, 20, 30, 40, 50]"
            ]
          },
          "metadata": {},
          "execution_count": 26
        }
      ]
    },
    {
      "cell_type": "code",
      "source": [
        "l = [10, 20, 30, 40]\n",
        "l.clear()\n",
        "l"
      ],
      "metadata": {
        "colab": {
          "base_uri": "https://localhost:8080/"
        },
        "id": "pc7AnJE7ZwRy",
        "outputId": "4960c2a4-db67-4ba3-e5a5-0ebaf54d8deb"
      },
      "execution_count": 29,
      "outputs": [
        {
          "output_type": "execute_result",
          "data": {
            "text/plain": [
              "[]"
            ]
          },
          "metadata": {},
          "execution_count": 29
        }
      ]
    },
    {
      "cell_type": "code",
      "source": [
        "l = [10, 20, 30, 40]\n",
        "data = l.copy() # copy 보다는 슬라이싱 권고 (슬라이싱이 메서드보다 빠름)\n",
        "data[0] = 1000\n",
        "l, data"
      ],
      "metadata": {
        "colab": {
          "base_uri": "https://localhost:8080/"
        },
        "id": "2puRR2tgZ9f-",
        "outputId": "db2976eb-5909-48b7-fa97-09e12b6ddc4a"
      },
      "execution_count": 30,
      "outputs": [
        {
          "output_type": "execute_result",
          "data": {
            "text/plain": [
              "([10, 20, 30, 40], [1000, 20, 30, 40])"
            ]
          },
          "metadata": {},
          "execution_count": 30
        }
      ]
    },
    {
      "cell_type": "code",
      "source": [
        "l = [10, 20, 30, 40]\n",
        "data = l\n",
        "data[0] = 1000\n",
        "l, data"
      ],
      "metadata": {
        "colab": {
          "base_uri": "https://localhost:8080/"
        },
        "id": "CDKcMmJxaVA_",
        "outputId": "f0e21581-fb2d-42f6-a8f7-e38422f5fa12"
      },
      "execution_count": 31,
      "outputs": [
        {
          "output_type": "execute_result",
          "data": {
            "text/plain": [
              "([1000, 20, 30, 40], [1000, 20, 30, 40])"
            ]
          },
          "metadata": {},
          "execution_count": 31
        }
      ]
    },
    {
      "cell_type": "code",
      "source": [
        "l = [10, 20, 30, 40, 10, 10, 10]\n",
        "l.count(10)"
      ],
      "metadata": {
        "colab": {
          "base_uri": "https://localhost:8080/"
        },
        "id": "Xh-3Ed7larbg",
        "outputId": "453046ee-2869-49b3-cfd5-ac589130b312"
      },
      "execution_count": 32,
      "outputs": [
        {
          "output_type": "execute_result",
          "data": {
            "text/plain": [
              "4"
            ]
          },
          "metadata": {},
          "execution_count": 32
        }
      ]
    },
    {
      "cell_type": "code",
      "source": [
        "l = [10, 20, 30, 40, 10, 10, 10]\n",
        "l.extend([1, 2, 3, 4, 5])\n",
        "l"
      ],
      "metadata": {
        "colab": {
          "base_uri": "https://localhost:8080/"
        },
        "id": "3-e7EdNedpEn",
        "outputId": "626ab995-82a3-4868-ff78-2ead96773e53"
      },
      "execution_count": 33,
      "outputs": [
        {
          "output_type": "execute_result",
          "data": {
            "text/plain": [
              "[10, 20, 30, 40, 10, 10, 10, 1, 2, 3, 4, 5]"
            ]
          },
          "metadata": {},
          "execution_count": 33
        }
      ]
    },
    {
      "cell_type": "code",
      "source": [
        "l = [10, 20, 30, 40, 10, 10, 10]\n",
        "l.insert(2, 10000)\n",
        "l"
      ],
      "metadata": {
        "colab": {
          "base_uri": "https://localhost:8080/"
        },
        "id": "UsylCUg-eGbI",
        "outputId": "8cf865ed-04d7-456a-ffe3-1b9cc04fc965"
      },
      "execution_count": 34,
      "outputs": [
        {
          "output_type": "execute_result",
          "data": {
            "text/plain": [
              "[10, 20, 10000, 30, 40, 10, 10, 10]"
            ]
          },
          "metadata": {},
          "execution_count": 34
        }
      ]
    },
    {
      "cell_type": "markdown",
      "source": [],
      "metadata": {
        "id": "ae5hx1uSeLbg"
      }
    },
    {
      "cell_type": "code",
      "source": [
        "l = [10, 20, 10000, 30, 40, 10, 10, 10]\n",
        "l.index(10000)"
      ],
      "metadata": {
        "colab": {
          "base_uri": "https://localhost:8080/"
        },
        "id": "ajd4pgM7eUDe",
        "outputId": "d2f0691d-c532-4521-e5f7-eebcb7a432b3"
      },
      "execution_count": 35,
      "outputs": [
        {
          "output_type": "execute_result",
          "data": {
            "text/plain": [
              "2"
            ]
          },
          "metadata": {},
          "execution_count": 35
        }
      ]
    },
    {
      "cell_type": "code",
      "source": [
        "l = [10, 20, 10000, 30, 40, 10, 10, 10]\n",
        "l.remove(10)\n",
        "l"
      ],
      "metadata": {
        "colab": {
          "base_uri": "https://localhost:8080/"
        },
        "id": "s4aKKUaHeZUO",
        "outputId": "59e521a1-1331-4ed6-f195-4058ed1a8a54"
      },
      "execution_count": 36,
      "outputs": [
        {
          "output_type": "execute_result",
          "data": {
            "text/plain": [
              "[20, 10000, 30, 40, 10, 10, 10]"
            ]
          },
          "metadata": {},
          "execution_count": 36
        }
      ]
    },
    {
      "cell_type": "code",
      "source": [
        "l = [10, 20, 10000, 30, 40, 10, 10, 10]\n",
        "for i in range(l.count(10)):\n",
        "    l.remove(10)\n",
        "l"
      ],
      "metadata": {
        "colab": {
          "base_uri": "https://localhost:8080/"
        },
        "id": "RUUpCRqlelHM",
        "outputId": "c178beba-fd2b-4194-b66f-04e163183a62"
      },
      "execution_count": 37,
      "outputs": [
        {
          "output_type": "execute_result",
          "data": {
            "text/plain": [
              "[20, 10000, 30, 40]"
            ]
          },
          "metadata": {},
          "execution_count": 37
        }
      ]
    },
    {
      "cell_type": "code",
      "source": [
        "# 실무에서 많이 사용하는 코드\n",
        "# 어떤 값을 찾아내거나 조건에 맞는 코드를 추출할 때 사용\n",
        "def 함수(x):\n",
        "    return x !=10\n",
        "\n",
        "l = [10, 20, 10000, 30, 40, 10, 10, 10]\n",
        "list(filter(함수, l))"
      ],
      "metadata": {
        "colab": {
          "base_uri": "https://localhost:8080/"
        },
        "id": "XEdOLdhEe4ik",
        "outputId": "78da95f1-acd0-426c-ff88-569be87b1cc1"
      },
      "execution_count": 38,
      "outputs": [
        {
          "output_type": "execute_result",
          "data": {
            "text/plain": [
              "[20, 10000, 30, 40]"
            ]
          },
          "metadata": {},
          "execution_count": 38
        }
      ]
    },
    {
      "cell_type": "code",
      "source": [
        "l = [10, 20, 10000, 30, 40, 10, 10, 10]\n",
        "list(filter(lambda x: x !=10, l)) # list가 있는 이유? "
      ],
      "metadata": {
        "colab": {
          "base_uri": "https://localhost:8080/"
        },
        "id": "kvsJvf6MffuZ",
        "outputId": "3789f917-93c0-4a34-870e-bf1dfd521463"
      },
      "execution_count": 39,
      "outputs": [
        {
          "output_type": "execute_result",
          "data": {
            "text/plain": [
              "[20, 10000, 30, 40]"
            ]
          },
          "metadata": {},
          "execution_count": 39
        }
      ]
    },
    {
      "cell_type": "code",
      "source": [
        "filter(lambda x: x !=10, l) # 왜 바로 안 주지? 메모리의 효율을 극대화하기 위해"
      ],
      "metadata": {
        "colab": {
          "base_uri": "https://localhost:8080/"
        },
        "id": "caDaklXufz6T",
        "outputId": "596ede7f-4334-46f2-c835-ca7b78a1f511"
      },
      "execution_count": 41,
      "outputs": [
        {
          "output_type": "execute_result",
          "data": {
            "text/plain": [
              "<filter at 0x7fd4d34fb3a0>"
            ]
          },
          "metadata": {},
          "execution_count": 41
        }
      ]
    },
    {
      "cell_type": "code",
      "source": [
        "range(1, 11) # 메모리 문제 땜에, 값이 클 경우"
      ],
      "metadata": {
        "colab": {
          "base_uri": "https://localhost:8080/"
        },
        "id": "xD2KDv6EgBB1",
        "outputId": "79e5f307-ce55-4ba9-c9da-382a143c1558"
      },
      "execution_count": 42,
      "outputs": [
        {
          "output_type": "execute_result",
          "data": {
            "text/plain": [
              "range(1, 11)"
            ]
          },
          "metadata": {},
          "execution_count": 42
        }
      ]
    },
    {
      "cell_type": "code",
      "source": [
        "type(range(5))"
      ],
      "metadata": {
        "colab": {
          "base_uri": "https://localhost:8080/"
        },
        "id": "oa8Cs8TLgLh6",
        "outputId": "6f38fbf9-ffac-4cb5-d651-94e312c962a5"
      },
      "execution_count": 45,
      "outputs": [
        {
          "output_type": "execute_result",
          "data": {
            "text/plain": [
              "range"
            ]
          },
          "metadata": {},
          "execution_count": 45
        }
      ]
    },
    {
      "cell_type": "code",
      "source": [
        "for i in filter(lambda x: x !=10, l):\n",
        "    print(i)"
      ],
      "metadata": {
        "colab": {
          "base_uri": "https://localhost:8080/"
        },
        "id": "FtZhvFBugcps",
        "outputId": "d909e3f9-16d3-48d9-b4a5-92870320bbb2"
      },
      "execution_count": 46,
      "outputs": [
        {
          "output_type": "stream",
          "name": "stdout",
          "text": [
            "20\n",
            "10000\n",
            "30\n",
            "40\n"
          ]
        }
      ]
    },
    {
      "cell_type": "code",
      "source": [
        "l =[10, 20, 30, 10, 20, 30, 1, 2, 55, 11]\n",
        "l.reverse() # l을 직접 만짐 / reversed는 l을 직접 만지지 않음/역 정렬이 아님. 역순일 뿐임\n",
        "l"
      ],
      "metadata": {
        "colab": {
          "base_uri": "https://localhost:8080/"
        },
        "id": "OsuKNclagxJk",
        "outputId": "d1ea4746-8bca-49a8-a8ad-b0e6a49f27a2"
      },
      "execution_count": 47,
      "outputs": [
        {
          "output_type": "execute_result",
          "data": {
            "text/plain": [
              "[11, 55, 2, 1, 30, 20, 10, 30, 20, 10]"
            ]
          },
          "metadata": {},
          "execution_count": 47
        }
      ]
    },
    {
      "cell_type": "code",
      "source": [
        "l = [10, 20, 30, 10, 20, 30, 1, 2, 55, 11]\n",
        "print(list(reversed(l))) # l을 직접 만지지 않습니다.\n",
        "print(l)"
      ],
      "metadata": {
        "colab": {
          "base_uri": "https://localhost:8080/"
        },
        "id": "-F14Oe1whMwM",
        "outputId": "78319a49-524c-4629-ba98-24781463bba2"
      },
      "execution_count": 51,
      "outputs": [
        {
          "output_type": "stream",
          "name": "stdout",
          "text": [
            "[11, 55, 2, 1, 30, 20, 10, 30, 20, 10]\n",
            "[10, 20, 30, 10, 20, 30, 1, 2, 55, 11]\n"
          ]
        }
      ]
    },
    {
      "cell_type": "code",
      "source": [
        "l =[10, 20, 30, 10, 20, 30, 1, 2, 55, 11]\n",
        "l.sort() # l을 직접 만짐 \n",
        "l"
      ],
      "metadata": {
        "colab": {
          "base_uri": "https://localhost:8080/"
        },
        "id": "DNZu96OThXSx",
        "outputId": "90dd72bb-9c76-4d68-e333-0c3062ccd0df"
      },
      "execution_count": 52,
      "outputs": [
        {
          "output_type": "execute_result",
          "data": {
            "text/plain": [
              "[1, 2, 10, 10, 11, 20, 20, 30, 30, 55]"
            ]
          },
          "metadata": {},
          "execution_count": 52
        }
      ]
    },
    {
      "cell_type": "code",
      "source": [
        "l =[10, 20, 30, 10, 20, 30, 1, 2, 55, 11]\n",
        "l.sort()\n",
        "l.reverse() # l을 직접 만짐 \n",
        "l"
      ],
      "metadata": {
        "colab": {
          "base_uri": "https://localhost:8080/"
        },
        "id": "fazXiPGFhzxQ",
        "outputId": "6dc76c6e-e4f2-43e5-e6ab-4b4ba0b31d29"
      },
      "execution_count": 53,
      "outputs": [
        {
          "output_type": "execute_result",
          "data": {
            "text/plain": [
              "[55, 30, 30, 20, 20, 11, 10, 10, 2, 1]"
            ]
          },
          "metadata": {},
          "execution_count": 53
        }
      ]
    },
    {
      "cell_type": "code",
      "source": [
        "l = [10, 20, 30, 10, 20, 30, 1, 2, 55, 11]\n",
        "print(list(sorted(l))) # l을 직접 만지지 않습니다.\n",
        "print(l)"
      ],
      "metadata": {
        "colab": {
          "base_uri": "https://localhost:8080/"
        },
        "id": "ePz5Lov1h8HI",
        "outputId": "c6870684-a8e1-4775-b14a-9852c074bfb1"
      },
      "execution_count": 54,
      "outputs": [
        {
          "output_type": "stream",
          "name": "stdout",
          "text": [
            "[1, 2, 10, 10, 11, 20, 20, 30, 30, 55]\n",
            "[10, 20, 30, 10, 20, 30, 1, 2, 55, 11]\n"
          ]
        }
      ]
    },
    {
      "cell_type": "code",
      "source": [
        "def 함수():\n",
        "    return\n",
        "\n",
        "l = [[1, 10],\n",
        "     [20, 30], 10, 20, 30, 1, 2, 55, 11]\n",
        "print(list(sorted(l,key=함수, reverse=True))) # 내림차순"
      ],
      "metadata": {
        "colab": {
          "base_uri": "https://localhost:8080/"
        },
        "id": "gSGfnaRgiBLt",
        "outputId": "1489578e-40bb-4e83-c58a-f79c89a1a84a"
      },
      "execution_count": 55,
      "outputs": [
        {
          "output_type": "stream",
          "name": "stdout",
          "text": [
            "[55, 30, 30, 20, 20, 11, 10, 10, 2, 1]\n"
          ]
        }
      ]
    },
    {
      "cell_type": "code",
      "source": [
        "l = [[1, 10, 'leehojun'], \n",
        "     [20, 30, 'hojun'], \n",
        "     [10, 20, 'weniv'], \n",
        "     [1, 2, 'likelion'], \n",
        "     [55, 11, 'sun']]\n",
        "\n",
        "# 1. 글자 수 대로 정렬해주세요.\n",
        "def 함수(x):\n",
        "    return len(x[2])\n",
        "\n",
        "print(list(sorted(l, key=함수)))\n",
        "\n",
        "# 2. 맨 앞에 위치한 숫자대로 정렬해주세요.\n",
        "def 함수2(x):\n",
        "    return x[0]\n",
        "\n",
        "print(list(sorted(l)))\n",
        "print(list(sorted(l, key=함수2)))\n",
        "\n",
        "# 3. 중앙에 위치한 값대로 정렬해주세요.\n",
        "def 함수3(x):\n",
        "    return x[1]\n",
        "\n",
        "print(list(sorted(l)))\n",
        "print(list(sorted(l, key=함수3)))"
      ],
      "metadata": {
        "colab": {
          "base_uri": "https://localhost:8080/"
        },
        "id": "Xr31pmisifk3",
        "outputId": "cd6bb9f8-125c-49ec-a687-e36187d4cb06"
      },
      "execution_count": 56,
      "outputs": [
        {
          "output_type": "stream",
          "name": "stdout",
          "text": [
            "[[55, 11, 'sun'], [20, 30, 'hojun'], [10, 20, 'weniv'], [1, 10, 'leehojun'], [1, 2, 'likelion']]\n",
            "[[1, 2, 'likelion'], [1, 10, 'leehojun'], [10, 20, 'weniv'], [20, 30, 'hojun'], [55, 11, 'sun']]\n",
            "[[1, 10, 'leehojun'], [1, 2, 'likelion'], [10, 20, 'weniv'], [20, 30, 'hojun'], [55, 11, 'sun']]\n",
            "[[1, 2, 'likelion'], [1, 10, 'leehojun'], [10, 20, 'weniv'], [20, 30, 'hojun'], [55, 11, 'sun']]\n",
            "[[1, 2, 'likelion'], [1, 10, 'leehojun'], [55, 11, 'sun'], [10, 20, 'weniv'], [20, 30, 'hojun']]\n"
          ]
        }
      ]
    },
    {
      "cell_type": "code",
      "source": [
        "l = [[1, 10, 'leehojun'], \n",
        "     [20, 30, 'hojun'], \n",
        "     [10, 20, 'weniv'], \n",
        "     [1, 2, 'likelion'], \n",
        "     [55, 11, 'sun']]\n",
        "\n",
        "# 1. 글자 수 대로 정렬해주세요.\n",
        "def 함수(x):\n",
        "    return len(x[2])\n",
        "\n",
        "print(list(sorted(l, key=함수)))\n",
        "print(list(sorted(l, key=lambda x:len(x[2]))))\n",
        "\n",
        "# 2. 맨 앞에 위치한 숫자대로 정렬해주세요.\n",
        "def 함수2(x):\n",
        "    return x[0]\n",
        "\n",
        "print(list(sorted(l)))\n",
        "print(list(sorted(l, key=함수2)))\n",
        "print(list(sorted(l, key=lambda x:x[0])))\n",
        "\n",
        "# 3. 중앙에 위치한 값대로 정렬해주세요.\n",
        "def 함수3(x):\n",
        "    return x[1]\n",
        "\n",
        "print(list(sorted(l)))\n",
        "print(list(sorted(l, key=함수3)))\n",
        "print(list(sorted(l, key=lambda x:x[1])))"
      ],
      "metadata": {
        "colab": {
          "base_uri": "https://localhost:8080/"
        },
        "id": "lk4W7F9skfyg",
        "outputId": "f9fd7d1a-c3a9-4e3a-9b84-639e135221f8"
      },
      "execution_count": 57,
      "outputs": [
        {
          "output_type": "stream",
          "name": "stdout",
          "text": [
            "[[55, 11, 'sun'], [20, 30, 'hojun'], [10, 20, 'weniv'], [1, 10, 'leehojun'], [1, 2, 'likelion']]\n",
            "[[55, 11, 'sun'], [20, 30, 'hojun'], [10, 20, 'weniv'], [1, 10, 'leehojun'], [1, 2, 'likelion']]\n",
            "[[1, 2, 'likelion'], [1, 10, 'leehojun'], [10, 20, 'weniv'], [20, 30, 'hojun'], [55, 11, 'sun']]\n",
            "[[1, 10, 'leehojun'], [1, 2, 'likelion'], [10, 20, 'weniv'], [20, 30, 'hojun'], [55, 11, 'sun']]\n",
            "[[1, 10, 'leehojun'], [1, 2, 'likelion'], [10, 20, 'weniv'], [20, 30, 'hojun'], [55, 11, 'sun']]\n",
            "[[1, 2, 'likelion'], [1, 10, 'leehojun'], [10, 20, 'weniv'], [20, 30, 'hojun'], [55, 11, 'sun']]\n",
            "[[1, 2, 'likelion'], [1, 10, 'leehojun'], [55, 11, 'sun'], [10, 20, 'weniv'], [20, 30, 'hojun']]\n",
            "[[1, 2, 'likelion'], [1, 10, 'leehojun'], [55, 11, 'sun'], [10, 20, 'weniv'], [20, 30, 'hojun']]\n"
          ]
        }
      ]
    },
    {
      "cell_type": "code",
      "source": [
        "l = [[1, 10, 32], \n",
        "     [20, 30, 11], \n",
        "     [10, 20, 22], \n",
        "     [1, 2, 13], \n",
        "     [55, 11, 44]]\n",
        "\n",
        "\n",
        "# 4. 3개의 전체 합대로 출력해주세요.\n",
        "def 함수4(x):\n",
        "    return sum(x)\n",
        "\n",
        "print(list(sorted(l, key=함수4)))\n",
        "print(list(sorted(l, key=lambda x:sum(x))))\n",
        "print(list(sorted(l, key=sum)))"
      ],
      "metadata": {
        "id": "G1l2VYrgkslH"
      },
      "execution_count": null,
      "outputs": []
    }
  ]
}